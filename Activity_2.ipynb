{
  "nbformat": 4,
  "nbformat_minor": 0,
  "metadata": {
    "colab": {
      "provenance": [],
      "authorship_tag": "ABX9TyPeh6jgVX11Fa9tpOtW4o3I",
      "include_colab_link": true
    },
    "kernelspec": {
      "name": "python3",
      "display_name": "Python 3"
    },
    "language_info": {
      "name": "python"
    }
  },
  "cells": [
    {
      "cell_type": "markdown",
      "metadata": {
        "id": "view-in-github",
        "colab_type": "text"
      },
      "source": [
        "<a href=\"https://colab.research.google.com/github/JRPateno/DSA-58011/blob/main/Activity_2.ipynb\" target=\"_parent\"><img src=\"https://colab.research.google.com/assets/colab-badge.svg\" alt=\"Open In Colab\"/></a>"
      ]
    },
    {
      "cell_type": "markdown",
      "source": [
        "Write a Python program to create a singly linked list of vowel in English alphabet. By iterating through the list, display all the vowels, the head, and the tail of the list."
      ],
      "metadata": {
        "id": "yvTGKMD-ZN60"
      }
    },
    {
      "cell_type": "code",
      "execution_count": null,
      "metadata": {
        "colab": {
          "base_uri": "https://localhost:8080/"
        },
        "id": "uZDkxt8aZGWN",
        "outputId": "3cc6bc52-0b68-4d2a-c362-da25cd8be0b1"
      },
      "outputs": [
        {
          "output_type": "stream",
          "name": "stdout",
          "text": [
            "a\n",
            "e\n",
            "i\n",
            "o\n",
            "u\n"
          ]
        }
      ],
      "source": [
        "class Node:\n",
        "  def __init__(self,data):\n",
        "    self.data = data\n",
        "    self.next = None\n",
        "\n",
        "class LinkedList:\n",
        "  def __init__(self):\n",
        "    self.head = None\n",
        "  def printList(self):\n",
        "    temp = self.head\n",
        "    while(temp):\n",
        "      print(temp.data)\n",
        "      temp = temp.next\n",
        "\n",
        "\n",
        "if __name__=='__main__':\n",
        "  Ilist = LinkedList()\n",
        "\n",
        "  Ilist.head = Node('a')\n",
        "  second = Node('e')\n",
        "  third = Node('i')\n",
        "  fourth = Node('o')\n",
        "  Ilist.tail = Node('u')\n",
        "\n",
        "  Ilist.head.next = second\n",
        "  second.next = third\n",
        "  third.next = fourth\n",
        "  fourth.next = Ilist.tail \n",
        "\n",
        "  Ilist.printList()\n",
        "  "
      ]
    }
  ]
}