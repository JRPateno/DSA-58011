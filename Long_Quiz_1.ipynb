{
  "cells": [
    {
      "cell_type": "markdown",
      "metadata": {
        "id": "view-in-github",
        "colab_type": "text"
      },
      "source": [
        "<a href=\"https://colab.research.google.com/github/JRPateno/DSA-58011/blob/main/Long_Quiz_1.ipynb\" target=\"_parent\"><img src=\"https://colab.research.google.com/assets/colab-badge.svg\" alt=\"Open In Colab\"/></a>"
      ]
    },
    {
      "cell_type": "code",
      "execution_count": null,
      "metadata": {
        "colab": {
          "background_save": true,
          "base_uri": "https://localhost:8080/"
        },
        "id": "DyjdKKn5YaVa",
        "outputId": "e32d289d-426f-4a42-8d1c-f46a2913fb68"
      },
      "outputs": [
        {
          "name": "stdout",
          "output_type": "stream",
          "text": [
            "['O', 'N', 'E', 'T', 'A', 'P', 'Y', 'E', 'R', 'N', 'H', 'O', 'J']\n"
          ]
        }
      ],
      "source": [
        "name = []\n",
        "name.insert(0,'J')\n",
        "name.insert(1,'O')\n",
        "name.insert(2,'H')\n",
        "name.insert(3,'N')\n",
        "name.insert(4,'R')\n",
        "name.insert(5,'E')\n",
        "name.insert(6,'Y')\n",
        "name.insert(7,'P')\n",
        "name.insert(8,'A')\n",
        "name.insert(9,'T')\n",
        "name.insert(10,'E')\n",
        "name.insert(11,'N')\n",
        "name.insert(12,'O')\n",
        "name.reverse()\n",
        "print(name)"
      ]
    }
  ],
  "metadata": {
    "colab": {
      "provenance": [],
      "authorship_tag": "ABX9TyN/Qp9ls4cUHVnlOkky9wyO",
      "include_colab_link": true
    },
    "kernelspec": {
      "display_name": "Python 3",
      "name": "python3"
    },
    "language_info": {
      "name": "python"
    }
  },
  "nbformat": 4,
  "nbformat_minor": 0
}