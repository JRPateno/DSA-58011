{
  "nbformat": 4,
  "nbformat_minor": 0,
  "metadata": {
    "colab": {
      "provenance": [],
      "authorship_tag": "ABX9TyMiDodGdpy+OQJ79aBObqSj",
      "include_colab_link": true
    },
    "kernelspec": {
      "name": "python3",
      "display_name": "Python 3"
    },
    "language_info": {
      "name": "python"
    }
  },
  "cells": [
    {
      "cell_type": "markdown",
      "metadata": {
        "id": "view-in-github",
        "colab_type": "text"
      },
      "source": [
        "<a href=\"https://colab.research.google.com/github/JRPateno/DSA-58011/blob/main/Activity3.ipynb\" target=\"_parent\"><img src=\"https://colab.research.google.com/assets/colab-badge.svg\" alt=\"Open In Colab\"/></a>"
      ]
    },
    {
      "cell_type": "code",
      "source": [
        "# Stack implementation in python\n",
        "\n",
        "# Creating a stack\n",
        "\n",
        "def create_stack():\n",
        "    stack = []\n",
        "    return stack\n",
        "\n",
        "# Creating an empty stack\n",
        "\n",
        "def is_empty(stack):\n",
        "    return len(stack) == 0\n",
        "\n",
        "# Adding items into the stack\n",
        "\n",
        "def push(stack, item):\n",
        "    stack.append(item)\n",
        "    print(\"Pushed Element: \" + item)\n",
        "\n",
        "# Removing an element from the stack\n",
        "\n",
        "def pop(stack):\n",
        "    if (is_empty(stack)):\n",
        "        return \"The stack is empty\"\n",
        "    return stack.pop()\n",
        "\n",
        "def count_stack(stack):\n",
        "  count = 0\n",
        "  for i in stack:\n",
        "    count += 1\n",
        "  return count\n",
        "\n",
        "def pop_elements(stack):\n",
        "  stack.pop()\n",
        "  stack.pop()\n",
        "  stack.pop()\n",
        "  return stack\n",
        "\n",
        "stack = create_stack()\n",
        "push(stack, str(1))\n",
        "push(stack, str(2))\n",
        "push(stack, str(3))\n",
        "push(stack, str(4))\n",
        "push(stack, str(5))\n",
        "\n",
        "print(\"The elements in the stack are:\"+ str(stack))\n",
        "print(\"The length of stack is:\",count_stack(stack))\n",
        "print(\"The statement after 3 elements pop:\",pop_elements(stack))"
      ],
      "metadata": {
        "colab": {
          "base_uri": "https://localhost:8080/"
        },
        "id": "PjIVSWZXZdok",
        "outputId": "ac870d82-a804-42d7-84a5-2156058da71b"
      },
      "execution_count": 60,
      "outputs": [
        {
          "output_type": "stream",
          "name": "stdout",
          "text": [
            "Pushed Element: 1\n",
            "Pushed Element: 2\n",
            "Pushed Element: 3\n",
            "Pushed Element: 4\n",
            "Pushed Element: 5\n",
            "The elements in the stack are:['1', '2', '3', '4', '5']\n",
            "The length of stack is: 5\n",
            "The statement after 3 elements pop: ['1', '2']\n"
          ]
        }
      ]
    }
  ]
}