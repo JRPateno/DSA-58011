{
  "nbformat": 4,
  "nbformat_minor": 0,
  "metadata": {
    "colab": {
      "name": "PracticalLabExam1.ipynb",
      "provenance": [],
      "authorship_tag": "ABX9TyOR2zRbCqu2Qf4hkyBvfQdx",
      "include_colab_link": true
    },
    "kernelspec": {
      "name": "python3",
      "display_name": "Python 3"
    },
    "language_info": {
      "name": "python"
    }
  },
  "cells": [
    {
      "cell_type": "markdown",
      "metadata": {
        "id": "view-in-github",
        "colab_type": "text"
      },
      "source": [
        "<a href=\"https://colab.research.google.com/github/JRPateno/DSA-58011/blob/main/PracticalLabExam1.ipynb\" target=\"_parent\"><img src=\"https://colab.research.google.com/assets/colab-badge.svg\" alt=\"Open In Colab\"/></a>"
      ]
    },
    {
      "cell_type": "markdown",
      "source": [
        "Adding test scores"
      ],
      "metadata": {
        "id": "4yf4CQvoVXnR"
      }
    },
    {
      "cell_type": "code",
      "execution_count": 2,
      "metadata": {
        "id": "L14WNhCmUxAr",
        "colab": {
          "base_uri": "https://localhost:8080/"
        },
        "outputId": "64ed5a77-6314-496a-bada-36096e94580f"
      },
      "outputs": [
        {
          "output_type": "stream",
          "name": "stdout",
          "text": [
            "397\n"
          ]
        }
      ],
      "source": [
        "score1=26\n",
        "score2=49\n",
        "score3=98\n",
        "score4=87\n",
        "score5=62\n",
        "score6=75\n",
        "\n",
        "total_score=score1 + score2 + score3 + score4 + score5 + score6\n",
        "print(total_score)"
      ]
    }
  ]
}