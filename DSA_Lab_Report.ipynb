{
  "nbformat": 4,
  "nbformat_minor": 0,
  "metadata": {
    "colab": {
      "provenance": [],
      "collapsed_sections": [],
      "include_colab_link": true
    },
    "kernelspec": {
      "name": "python3",
      "display_name": "Python 3"
    },
    "language_info": {
      "name": "python"
    }
  },
  "cells": [
    {
      "cell_type": "markdown",
      "metadata": {
        "id": "view-in-github",
        "colab_type": "text"
      },
      "source": [
        "<a href=\"https://colab.research.google.com/github/JRPateno/DSA-58011/blob/main/DSA_Lab_Report.ipynb\" target=\"_parent\"><img src=\"https://colab.research.google.com/assets/colab-badge.svg\" alt=\"Open In Colab\"/></a>"
      ]
    },
    {
      "cell_type": "code",
      "execution_count": null,
      "metadata": {
        "colab": {
          "base_uri": "https://localhost:8080/"
        },
        "id": "0ESjE0Hc_B6m",
        "outputId": "ccbcde3d-103e-4e3a-e3d7-00eda5742caa"
      },
      "outputs": [
        {
          "name": "stdout",
          "output_type": "stream",
          "text": [
            "\n",
            "1. Square\n",
            "2. Triangle\n",
            "\n",
            "Which polygon to calculate (1|2)? 1\n"
          ]
        }
      ],
      "source": [
        "class Polygon:\n",
        "    def __init__(self):\n",
        "        self.shape = \"\"\n",
        "        self.sides = 0\n",
        "        self.area = 0.0\n",
        "\n",
        "    def polygon(self):\n",
        "        while(True):\n",
        "            poly = int(input(\"\\n1. Square\"\n",
        "                             \"\\n2. Triangle\"\n",
        "                             \"\\n\\nWhich polygon to calculate (1|2)? \"))\n",
        "\n",
        "\n",
        "            if poly ==  1:\n",
        "                self.shape = \"Square\"\n",
        "                self.sides = 4\n",
        "\n",
        "                length = float(input(\"Length? \"))\n",
        "                width = float(input(\"Width? \"))\n",
        "\n",
        "                self.area = length * width\n",
        "                break\n",
        "\n",
        "            elif poly == 2:\n",
        "                self.shape = \"Triangle\"\n",
        "                self.sides = 3\n",
        "\n",
        "                base = float(input(\"Base? \"))\n",
        "                height = float(input(\"Height? \"))\n",
        "\n",
        "                self.area = 1 / 2 * (base * height)\n",
        "                break\n",
        "\n",
        "            else:\n",
        "                continue\n",
        "\n",
        "    def poly_info(self):\n",
        "        print(f\"\\nShape: {self.shape}\"\n",
        "              f\"\\nSides: {self.sides}\"\n",
        "              f\"\\nArea: {self.area}\")\n",
        "\n",
        "\n",
        "\n",
        "type = Polygon()\n",
        "type.polygon()\n",
        "type.poly_info()\n"
      ]
    }
  ]
}