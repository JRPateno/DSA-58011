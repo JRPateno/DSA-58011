{
  "nbformat": 4,
  "nbformat_minor": 0,
  "metadata": {
    "colab": {
      "name": "DSL first.ipynb",
      "provenance": [],
      "authorship_tag": "ABX9TyMBO2jtkCtmCCeHkhIN+U3d",
      "include_colab_link": true
    },
    "kernelspec": {
      "name": "python3",
      "display_name": "Python 3"
    },
    "language_info": {
      "name": "python"
    }
  },
  "cells": [
    {
      "cell_type": "markdown",
      "metadata": {
        "id": "view-in-github",
        "colab_type": "text"
      },
      "source": [
        "<a href=\"https://colab.research.google.com/github/JRPateno/DSA-58011/blob/main/DSL_first.ipynb\" target=\"_parent\"><img src=\"https://colab.research.google.com/assets/colab-badge.svg\" alt=\"Open In Colab\"/></a>"
      ]
    },
    {
      "cell_type": "code",
      "source": [
        "class Person:\n",
        "    def __init__(self,name,age):\n",
        "        self.name = name\n",
        "        self.age = age\n",
        "\n",
        "person = Person(\"Ana\",39)\n",
        "print(person.name)\n",
        "print(person.age)"
      ],
      "metadata": {
        "id": "-xeVB1OZSi8K"
      },
      "execution_count": null,
      "outputs": []
    },
    {
      "cell_type": "code",
      "execution_count": 1,
      "metadata": {
        "colab": {
          "base_uri": "https://localhost:8080/",
          "height": 35
        },
        "id": "A9WMfSK8R9lC",
        "outputId": "dc56d840-4a63-4f82-a4ef-f458b14ae3d0"
      },
      "outputs": [
        {
          "output_type": "execute_result",
          "data": {
            "text/plain": [
              "'has edges and vertices'"
            ],
            "application/vnd.google.colaboratory.intrinsic+json": {
              "type": "string"
            }
          },
          "metadata": {},
          "execution_count": 1
        }
      ],
      "source": [
        "class Shape:\n",
        "    def triangle(self):\n",
        "        return \"4 sides are equal\"\n",
        "    def rectangle(self):\n",
        "        return \"2 sides are equal\"\n",
        "\n",
        "class Polygon(Shape):\n",
        "    def triangle(self):\n",
        "        return \"has edges and vertices\"\n",
        "\n",
        "object = Polygon()\n",
        "object.triangle()"
      ]
    },
    {
      "cell_type": "code",
      "source": [
        "class Cat:\n",
        "    def __init__(self,name):\n",
        "        self.name = name\n",
        "\n",
        "missy = Cat('Missy')\n",
        "lucky = Cat('Lucky')\n",
        "\n",
        "print(missy.name)\n",
        "print(lucky.name)"
      ],
      "metadata": {
        "colab": {
          "base_uri": "https://localhost:8080/"
        },
        "id": "0CUOiWaaSkBY",
        "outputId": "9e004f77-06fe-4413-fb6d-36f6c2441ee2"
      },
      "execution_count": 2,
      "outputs": [
        {
          "output_type": "stream",
          "name": "stdout",
          "text": [
            "Missy\n",
            "Lucky\n"
          ]
        }
      ]
    },
    {
      "cell_type": "code",
      "source": [
        "class Rectangle:\n",
        "    def __init__(self,length,width):\n",
        "        self.length = length\n",
        "        self.width = width\n",
        "\n",
        "    def Area(self):\n",
        "        print(self.length * self.width)\n",
        "\n",
        "rect = Rectangle(7,3)\n",
        "rect.Area()"
      ],
      "metadata": {
        "colab": {
          "base_uri": "https://localhost:8080/"
        },
        "id": "fZ0cZ3UeSlyp",
        "outputId": "ade9e605-18a5-4b1e-ed9c-cea634fdd1c3"
      },
      "execution_count": 4,
      "outputs": [
        {
          "output_type": "stream",
          "name": "stdout",
          "text": [
            "21\n"
          ]
        }
      ]
    },
    {
      "cell_type": "code",
      "source": [
        "class Rectangle:\n",
        "    def __init__(self,length,width):\n",
        "        self.length = length\n",
        "        self.width = width\n",
        "\n",
        "    def Area(self):\n",
        "        print(self.length * self.width)\n",
        "\n",
        "    def Perimeter(self):\n",
        "      return 2*(self.length + self.width)\n",
        "\n",
        "\n",
        "class Polymorphism:\n",
        "  def __init__(self,length,width):\n",
        "        self.length = length\n",
        "        self.width = width\n",
        "\n",
        "  def Area(self):\n",
        "        print(self.length * self.width)\n",
        "\n",
        "  def Perimeter(self):\n",
        "      return 2*(self.length + self.width)\n",
        "\n",
        "first = Rectangle(7,3)\n",
        "second = Polymorphism(8,5)\n",
        "\n",
        "first.Area()\n",
        "first.Perimeter()\n",
        "second.Area()\n",
        "second.Perimeter()"
      ],
      "metadata": {
        "colab": {
          "base_uri": "https://localhost:8080/"
        },
        "id": "aVl6UpmqTs9Z",
        "outputId": "81eb6826-9453-4d9b-f960-7e8f52b551ff"
      },
      "execution_count": 32,
      "outputs": [
        {
          "output_type": "stream",
          "name": "stdout",
          "text": [
            "21\n",
            "40\n"
          ]
        },
        {
          "output_type": "execute_result",
          "data": {
            "text/plain": [
              "26"
            ]
          },
          "metadata": {},
          "execution_count": 32
        }
      ]
    }
  ]
}