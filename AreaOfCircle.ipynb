{
  "nbformat": 4,
  "nbformat_minor": 0,
  "metadata": {
    "colab": {
      "name": "AreaOfCircle.ipynb",
      "provenance": [],
      "authorship_tag": "ABX9TyNdQ7ZSQhBCwh+vuxJE3NK9",
      "include_colab_link": true
    },
    "kernelspec": {
      "name": "python3",
      "display_name": "Python 3"
    },
    "language_info": {
      "name": "python"
    }
  },
  "cells": [
    {
      "cell_type": "markdown",
      "metadata": {
        "id": "view-in-github",
        "colab_type": "text"
      },
      "source": [
        "<a href=\"https://colab.research.google.com/github/JRPateno/DSA-58011/blob/main/AreaOfCircle.ipynb\" target=\"_parent\"><img src=\"https://colab.research.google.com/assets/colab-badge.svg\" alt=\"Open In Colab\"/></a>"
      ]
    },
    {
      "cell_type": "markdown",
      "source": [
        "Area of Circle"
      ],
      "metadata": {
        "id": "yHCqHXHmDd0f"
      }
    },
    {
      "cell_type": "code",
      "execution_count": 18,
      "metadata": {
        "colab": {
          "base_uri": "https://localhost:8080/"
        },
        "id": "DoFn-jM5Dc02",
        "outputId": "772b3107-d045-4fed-a191-e4bcdaaa21b3"
      },
      "outputs": [
        {
          "output_type": "stream",
          "name": "stdout",
          "text": [
            "Enter radius: 3\n",
            "Area of circle is 28.27\n"
          ]
        }
      ],
      "source": [
        "rad = int(input(\"Enter radius: \"))\n",
        "pi = 3.141592653589793238\n",
        "formula = pi*(rad*rad)\n",
        "print(\"Area of circle is %.2f\" %formula)"
      ]
    }
  ]
}