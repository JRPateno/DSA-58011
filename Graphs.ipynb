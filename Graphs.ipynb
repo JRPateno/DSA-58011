{
  "nbformat": 4,
  "nbformat_minor": 0,
  "metadata": {
    "colab": {
      "provenance": [],
      "authorship_tag": "ABX9TyOCkhR2BevTsuc/wz/tq/oK",
      "include_colab_link": true
    },
    "kernelspec": {
      "name": "python3",
      "display_name": "Python 3"
    },
    "language_info": {
      "name": "python"
    }
  },
  "cells": [
    {
      "cell_type": "markdown",
      "metadata": {
        "id": "view-in-github",
        "colab_type": "text"
      },
      "source": [
        "<a href=\"https://colab.research.google.com/github/JRPateno/DSA-58011/blob/main/Graphs.ipynb\" target=\"_parent\"><img src=\"https://colab.research.google.com/assets/colab-badge.svg\" alt=\"Open In Colab\"/></a>"
      ]
    },
    {
      "cell_type": "markdown",
      "source": [
        "Data Elements using dictionaries to implement graphs"
      ],
      "metadata": {
        "id": "cCXjR4PEbhzg"
      }
    },
    {
      "cell_type": "code",
      "execution_count": null,
      "metadata": {
        "colab": {
          "base_uri": "https://localhost:8080/"
        },
        "id": "oq5d2pfsaRir",
        "outputId": "fc9ffff1-056b-4379-ea74-5b0c4e82db51"
      },
      "outputs": [
        {
          "output_type": "stream",
          "name": "stdout",
          "text": [
            "{'a': ['b', 'c'], 'b': ['a', 'd'], 'c': ['a', 'd'], 'd': ['b', 'c', 'e'], 'e': ['e']}\n"
          ]
        }
      ],
      "source": [
        "graph = {\n",
        "    'a': ['b','c'],\n",
        "    'b': ['a','d'],\n",
        "    'c': ['a','d'],\n",
        "    'd': ['b','c','e'],\n",
        "    'e': ['e']\n",
        "}\n",
        "print(graph)"
      ]
    },
    {
      "cell_type": "markdown",
      "source": [
        "Application 1 (G19)"
      ],
      "metadata": {
        "id": "Wu7CmDhqedgA"
      }
    },
    {
      "cell_type": "code",
      "source": [
        "g19 = {\n",
        "    '1': ['2','3','4','5'],\n",
        "    '2': ['1','3','4','5'],\n",
        "    '3': ['1','2','4','5'],\n",
        "    '4': ['1','2','3','5'],\n",
        "    '5': ['1','2','3','4']\n",
        "}\n",
        "print(g19)\n",
        "\n",
        "V = {1,2,3,4,5}\n",
        "E = {2345, 1345, 1245, 1235, 1234}"
      ],
      "metadata": {
        "colab": {
          "base_uri": "https://localhost:8080/"
        },
        "id": "dAQF8MlNep4f",
        "outputId": "918c9e7b-296e-4cbb-a8d3-f4a9497fcd70"
      },
      "execution_count": null,
      "outputs": [
        {
          "output_type": "stream",
          "name": "stdout",
          "text": [
            "{'1': ['2', '3', '4', '5'], '2': ['1', '3', '4', '5'], '3': ['1', '2', '4', '5'], '4': ['1', '2', '3', '5'], '5': ['1', '2', '3', '4']}\n"
          ]
        }
      ]
    },
    {
      "cell_type": "markdown",
      "source": [
        "(G20)"
      ],
      "metadata": {
        "id": "rweQihlGf79I"
      }
    },
    {
      "cell_type": "code",
      "source": [
        "g20 = {\n",
        "    '1': ['2','4'],\n",
        "    '2': ['1','3','4'],\n",
        "    '3': ['2','4'],\n",
        "    '4': ['1','2','3']\n",
        "}\n",
        "print(g20)"
      ],
      "metadata": {
        "colab": {
          "base_uri": "https://localhost:8080/"
        },
        "id": "IWkN6VH1f_cH",
        "outputId": "05b16f1e-8a66-424f-cc9c-075e688ea501"
      },
      "execution_count": null,
      "outputs": [
        {
          "output_type": "stream",
          "name": "stdout",
          "text": [
            "{'1': ['2', '4'], '2': ['1', '3', '4'], '3': ['2', '4'], '4': ['1', '2', '3']}\n"
          ]
        }
      ]
    },
    {
      "cell_type": "markdown",
      "source": [
        "(G21)"
      ],
      "metadata": {
        "id": "JbudRp2EgQCv"
      }
    },
    {
      "cell_type": "code",
      "source": [
        "g21 = {\n",
        "    '1': ['3','4','5'],\n",
        "    '2': ['4','5'],\n",
        "    '3': ['1'],\n",
        "    '4': ['1','2'],\n",
        "    '5': ['1','2']\n",
        "}\n",
        "print(g21)"
      ],
      "metadata": {
        "colab": {
          "base_uri": "https://localhost:8080/"
        },
        "id": "bYyHOW4igRgo",
        "outputId": "b04a45f9-27fc-4f22-e2e4-7efcd54c32ab"
      },
      "execution_count": null,
      "outputs": [
        {
          "output_type": "stream",
          "name": "stdout",
          "text": [
            "{'1': ['3', '4', '5'], '2': ['4', '5'], '3': ['1'], '4': ['1', '2'], '5': ['1', '2']}\n"
          ]
        }
      ]
    }
  ]
}